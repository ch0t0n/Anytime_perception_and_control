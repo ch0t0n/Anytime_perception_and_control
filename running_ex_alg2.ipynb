{
 "cells": [
  {
   "cell_type": "code",
   "execution_count": null,
   "metadata": {
    "vscode": {
     "languageId": "python"
    }
   },
   "outputs": [
    {
     "ename": "",
     "evalue": "",
     "output_type": "error",
     "traceback": [
      "\u001b[1;31mFailed to start the Kernel. \n",
      "\u001b[1;31mView Jupyter <a href='command:jupyter.viewOutput'>log</a> for further details."
     ]
    }
   ],
   "source": [
    "import numpy as np\n",
    "import itertools as it\n",
    "\n",
    "def make_box(n, ep):\n",
    "    s = [ep, -ep]\n",
    "    y = it.product(s, repeat=n)\n",
    "    z = list(y)\n",
    "    zeros = tuple([0 for i in range(n)])\n",
    "    for i in range(len(z)):\n",
    "        z[i] = zeros + z[i]\n",
    "    Box = Polyhedron(vertices=z, backend='ppl', base_ring=QQ)\n",
    "    return Box\n",
    "\n",
    "# We will run a simple 2D example for algorithm 1, First we define the initial state and the initial input\n",
    "# X = [x y] is a state in 2D\n",
    "# U = [u] is an input in 1D\n",
    "X0 = Polyhedron(ieqs=[(-1,0,1),(4,0,-1),(-2,3,-1),(2,-1,1)], backend='ppl', base_ring=QQ)\n",
    "U0 = Polyhedron(eqns=[(-3,1)], backend='ppl', base_ring=QQ)\n",
    "xn = 2\n",
    "un = 1\n",
    "X0\n",
    "\n",
    "# Since we have X in 2D and U in 1D, A will be a 2x2 matrix, B will be a 2x1 matrix, and K will be a 1x2 matrix\n",
    "A = Matrix([[1,2],[3,4]])\n",
    "B = Matrix([[0],[1]])\n",
    "\n",
    "# Converting K into K = [[I 0] [0 K]]\n",
    "K = Matrix([0, 1])\n",
    "K1 = [[0 for i in range(xn)]for j in range(xn)]\n",
    "KI = np.identity(xn)\n",
    "K1 = np.hstack((KI, K1))\n",
    "K2 = [[0 for i in range(xn)] for j in range(un)]\n",
    "K2 = np.hstack((K2,K))\n",
    "K = Matrix(np.vstack((K1,K2)))\n",
    "print('K = \\n',K)\n",
    "\n",
    "\n",
    "# We have the box in 2D with ep=0.2\n",
    "Box = make_box(2, 0.1)\n",
    "\n",
    "\n",
    "# Now we write algorithm 2, at first we write C = [A B]\n",
    "C = Matrix(np.hstack((A,B)))\n",
    "\n",
    "P0 = [np.hstack((x,u)) for x in X0.vertices() for u in U0.vertices()]\n",
    "P0 = Polyhedron(vertices=P0)\n",
    "Xc = C*P0\n",
    "\n"
   ]
  },
  {
   "cell_type": "code",
   "execution_count": null,
   "metadata": {
    "vscode": {
     "languageId": "python"
    }
   },
   "outputs": [],
   "source": [
    "I = np.identity(2)\n",
    "M = np.vstack((I,I))\n",
    "\n",
    "Xcc = [np.matmul(M,x) for x in Xc.vertices()]\n",
    "Xcc = Polyhedron(Xcc)\n",
    "Xcc.vertices()\n",
    "\n",
    "Xcc+Box\n",
    "\n",
    "Pc = K*Xcc\n",
    "Pc"
   ]
  },
  {
   "cell_type": "code",
   "execution_count": 57,
   "metadata": {
    "vscode": {
     "languageId": "python"
    }
   },
   "outputs": [
    {
     "name": "stdout",
     "output_type": "stream",
     "text": [
      "i =  0\n",
      "Xc =  (An inequality (3, -1) x + 1 >= 0, An inequality (-15, 7) x - 25 >= 0, An inequality (-3, 1) x + 5 >= 0, An inequality (7, -3) x + 13 >= 0)\n",
      "Xcp =  (An inequality (3, -1) x + 1 >= 0, An inequality (-15, 7) x - 25 >= 0, An inequality (-3, 1) x + 5 >= 0, An inequality (7, -3) x + 13 >= 0)\n",
      "Xc_twice =  A 2-dimensional polyhedron in QQ^4 defined as the convex hull of 4 vertices\n",
      "Xh =  (An inequality (-15, 7, 0, 0) x - 2500 >= 0, An inequality (-3, 1, 0, 0) x + 500 >= 0, An inequality (-1, 0, 1, 0) x + 10 >= 0, An inequality (0, -1, 0, 1) x + 10 >= 0, An inequality (7, -3, 0, 0) x + 1300 >= 0, An inequality (0, 1, 0, -1) x + 10 >= 0, An inequality (1, 0, -1, 0) x + 10 >= 0, An inequality (3, -1, 0, 0) x + 100 >= 0)\n",
      "Pc =  (An inequality (0.0, 1.0, -1.0) x + 0.1 >= 0, An inequality (7.0, -3.0, 0.0) x + 13.0 >= 0, An inequality (-3.0, 1.0, 0.0) x + 5.0 >= 0, An inequality (3.0, -1.0, 0.0) x + 1.0 >= 0, An inequality (0.0, -1.0, 1.0) x + 0.1 >= 0, An inequality (-15.0, 7.0, 0.0) x - 25.0 >= 0)\n",
      "i =  1\n",
      "Xc =  (An inequality (-2.993197279, 1.156462585) x + 1.0 >= 0, An inequality (-10.58823529, 4.117647059) x + 1.0 >= 0, An inequality (1.0, 0.0) x - 23.0 >= 0, An inequality (4.507042254, -1.737089202) x - 1.0 >= 0, An inequality (3.157894737, -1.228070175) x + 1.0 >= 0, An inequality (-1.0, 0.0) x + 88.0 >= 0)\n",
      "Xcp =  (An inequality (-2.993197279, 1.156462585) x + 1.0 >= 0, An inequality (-10.58823529, 4.117647059) x + 1.0 >= 0, An inequality (1.0, 0.0) x - 23.0 >= 0, An inequality (4.507042254, -1.737089202) x - 1.0 >= 0, An inequality (3.157894737, -1.228070175) x + 1.0 >= 0, An inequality (-1.0, 0.0) x + 88.0 >= 0)\n",
      "Xc_twice =  A 2-dimensional polyhedron in QQ^4 defined as the convex hull of 6 vertices\n",
      "Xh =  (An inequality (-44, 17, 0, 0) x + 1470 >= 0, An inequality (-18, 7, 0, 0) x + 170 >= 0, An inequality (-1, 0, 0, 0) x + 8800 >= 0, An inequality (-1, 0, 1, 0) x + 10 >= 0, An inequality (0, -1, 0, 1) x + 10 >= 0, An inequality (96, -37, 0, 0) x - 2130 >= 0, An inequality (0, 1, 0, -1) x + 10 >= 0, An inequality (1, 0, -1, 0) x + 10 >= 0, An inequality (1, 0, 0, 0) x - 2300 >= 0, An inequality (18, -7, 0, 0) x + 570 >= 0)\n",
      "Pc =  (An inequality (0.0, 1.0, -1.0) x + 0.1 >= 0, An inequality (18.0, -7.0, 0.0) x + 5.7 >= 0, An inequality (-1.0, 0.0, 0.0) x + 88.0 >= 0, An inequality (1.0, 0.0, 0.0) x - 23.0 >= 0, An inequality (0.0, -1.0, 1.0) x + 0.1 >= 0, An inequality (96.0, -37.0, 0.0) x - 21.3 >= 0, An inequality (-44.0, 17.0, 0.0) x + 14.7 >= 0, An inequality (-18.0, 7.0, 0.0) x + 1.7 >= 0)\n",
      "i =  2\n",
      "Xc =  (An inequality (-11.1, 4.3) x + 1.0 >= 0, An inequality (-369.375, 143.125) x + 1.0 >= 0, An inequality (-2.5, 1.0) x - 11.4 >= 0, An inequality (1.0, 0.0) x - 140.8 >= 0, An inequality (18.5, -7.166666667) x + 1.0 >= 0, An inequality (10.75396825, -4.166666667) x + 1.0 >= 0, An inequality (2.5, -1.0) x + 44.09999999 >= 0, An inequality (-1.0, 0.0) x + 542.1999997 >= 0)\n",
      "Xcp =  (An inequality (-11.1, 4.3) x + 1.0 >= 0, An inequality (-369.375, 143.125) x + 1.0 >= 0, An inequality (-2.5, 1.0) x - 11.4 >= 0, An inequality (1.0, 0.0) x - 140.8 >= 0, An inequality (18.5, -7.166666667) x + 1.0 >= 0, An inequality (10.75396825, -4.166666667) x + 1.0 >= 0, An inequality (2.5, -1.0) x + 44.09999999 >= 0, An inequality (-1.0, 0.0) x + 542.1999997 >= 0)\n",
      "Xc_twice =  A 2-dimensional polyhedron in QQ^4 defined as the convex hull of 8 vertices\n",
      "Xh =  (An inequality (-591, 229, 0, 0) x + 160 >= 0, An inequality (-111, 43, 0, 0) x + 1000 >= 0, An inequality (-5, 2, 0, 0) x - 2280 >= 0, An inequality (-1, 0, 0, 0) x + 54220 >= 0, An inequality (-1, 0, 1, 0) x + 10 >= 0, An inequality (0, -1, 0, 1) x + 10 >= 0, An inequality (271, -105, 0, 0) x + 2520 >= 0, An inequality (0, 1, 0, -1) x + 10 >= 0, An inequality (1, 0, -1, 0) x + 10 >= 0, An inequality (1, 0, 0, 0) x - 14080 >= 0, An inequality (5, -2, 0, 0) x + 8820 >= 0, An inequality (111, -43, 0, 0) x + 600 >= 0)\n",
      "Pc =  (An inequality (0.0, 1.0, -1.0) x + 0.1 >= 0, An inequality (5.0, -2.0, 0.0) x + 88.2 >= 0, An inequality (-1.0, 0.0, 0.0) x + 542.2 >= 0, An inequality (1.0, 0.0, 0.0) x - 140.8 >= 0, An inequality (0.0, -1.0, 1.0) x + 0.1 >= 0, An inequality (111.0, -43.0, 0.0) x + 6.0 >= 0, An inequality (-591.0, 229.0, 0.0) x + 1.6 >= 0, An inequality (271.0, -105.0, 0.0) x + 25.2 >= 0, An inequality (-111.0, 43.0, 0.0) x + 10.0 >= 0, An inequality (-5.0, 2.0, 0.0) x - 22.8 >= 0)\n",
      "i =  3\n",
      "Xc =  (An inequality (-2.583333333, 1.0) x + 7.449999966 >= 0, An inequality (-18.57619577, 7.196885428) x + 1.0 >= 0, An inequality (-21.04615385, 8.153846154) x + 1.0 >= 0, An inequality (-2.5, 1.0) x - 70.3 >= 0, An inequality (1.0, 0.0) x - 867.6 >= 0, An inequality (2.583333333, -1.0) x - 1.8 >= 0, An inequality (25.52207428, -9.887876664) x + 1.0 >= 0, An inequality (18.73972603, -7.260273973) x + 1.0 >= 0, An inequality (2.499999999, -1.0) x + 271.200002 >= 0, An inequality (-1.0, 0.0) x + 3341.4 >= 0)\n",
      "Xcp =  (An inequality (-2.583333333, 1.0) x + 7.449999966 >= 0, An inequality (-18.57619577, 7.196885428) x + 1.0 >= 0, An inequality (-21.04615385, 8.153846154) x + 1.0 >= 0, An inequality (-2.5, 1.0) x - 70.3 >= 0, An inequality (1.0, 0.0) x - 867.6 >= 0, An inequality (2.583333333, -1.0) x - 1.8 >= 0, An inequality (25.52207428, -9.887876664) x + 1.0 >= 0, An inequality (18.73972603, -7.260273973) x + 1.0 >= 0, An inequality (2.499999999, -1.0) x + 271.200002 >= 0, An inequality (-1.0, 0.0) x + 3341.4 >= 0)\n",
      "Xc_twice =  A 2-dimensional polyhedron in QQ^4 defined as the convex hull of 10 vertices\n",
      "Xh =  (An inequality (-1670, 647, 0, 0) x + 8990 >= 0, An inequality (-684, 265, 0, 0) x + 3250 >= 0, An inequality (-31, 12, 0, 0) x + 8940 >= 0, An inequality (-5, 2, 0, 0) x - 14060 >= 0, An inequality (-1, 0, 0, 0) x + 334140 >= 0, An inequality (-1, 0, 1, 0) x + 10 >= 0, An inequality (0, -1, 0, 1) x + 10 >= 0, An inequality (3642, -1411, 0, 0) x + 14270 >= 0, An inequality (0, 1, 0, -1) x + 10 >= 0, An inequality (1, 0, -1, 0) x + 10 >= 0, An inequality (1, 0, 0, 0) x - 86760 >= 0, An inequality (5, -2, 0, 0) x + 54240 >= 0, An inequality (31, -12, 0, 0) x - 2160 >= 0, An inequality (684, -265, 0, 0) x + 3650 >= 0)\n"
     ]
    },
    {
     "ename": "ValueError",
     "evalue": "*Error: Numerical inconsistency is found.  Use the GMP exact arithmetic.",
     "output_type": "error",
     "traceback": [
      "\u001b[0;31m---------------------------------------------------------------------------\u001b[0m",
      "\u001b[0;31mValueError\u001b[0m                                Traceback (most recent call last)",
      "\u001b[1;32m/Users/choton/Library/CloudStorage/OneDrive-KansasStateUniversity/PhD Research/Anytime Control Project (2023)/Anytime tool/running_ex_alg2.ipynb Cell 3\u001b[0m in \u001b[0;36m2\n\u001b[1;32m     <a href='vscode-notebook-cell:/Users/choton/Library/CloudStorage/OneDrive-KansasStateUniversity/PhD%20Research/Anytime%20Control%20Project%20%282023%29/Anytime%20tool/running_ex_alg2.ipynb#W2sZmlsZQ%3D%3D?line=17'>18</a>\u001b[0m     Pc \u001b[39m=\u001b[39m Xh\u001b[39m.\u001b[39mlinear_transformation(K)\n\u001b[1;32m     <a href='vscode-notebook-cell:/Users/choton/Library/CloudStorage/OneDrive-KansasStateUniversity/PhD%20Research/Anytime%20Control%20Project%20%282023%29/Anytime%20tool/running_ex_alg2.ipynb#W2sZmlsZQ%3D%3D?line=18'>19</a>\u001b[0m     Pc \u001b[39m=\u001b[39m Polyhedron(Pc, backend\u001b[39m=\u001b[39m\u001b[39m'\u001b[39m\u001b[39mppl\u001b[39m\u001b[39m'\u001b[39m, base_ring\u001b[39m=\u001b[39mQQ)\n\u001b[0;32m---> <a href='vscode-notebook-cell:/Users/choton/Library/CloudStorage/OneDrive-KansasStateUniversity/PhD%20Research/Anytime%20Control%20Project%20%282023%29/Anytime%20tool/running_ex_alg2.ipynb#W2sZmlsZQ%3D%3D?line=19'>20</a>\u001b[0m     Pc \u001b[39m=\u001b[39m RealNumber(\u001b[39m'\u001b[39;49m\u001b[39m0.01\u001b[39;49m\u001b[39m'\u001b[39;49m)\u001b[39m*\u001b[39;49mPc\n\u001b[1;32m     <a href='vscode-notebook-cell:/Users/choton/Library/CloudStorage/OneDrive-KansasStateUniversity/PhD%20Research/Anytime%20Control%20Project%20%282023%29/Anytime%20tool/running_ex_alg2.ipynb#W2sZmlsZQ%3D%3D?line=20'>21</a>\u001b[0m     \u001b[39mprint\u001b[39m(\u001b[39m\"\u001b[39m\u001b[39mPc = \u001b[39m\u001b[39m\"\u001b[39m, Pc\u001b[39m.\u001b[39minequalities())\n\u001b[1;32m     <a href='vscode-notebook-cell:/Users/choton/Library/CloudStorage/OneDrive-KansasStateUniversity/PhD%20Research/Anytime%20Control%20Project%20%282023%29/Anytime%20tool/running_ex_alg2.ipynb#W2sZmlsZQ%3D%3D?line=23'>24</a>\u001b[0m \u001b[39m# Xc = Pc.linear_transformation(C)\u001b[39;00m\n\u001b[1;32m     <a href='vscode-notebook-cell:/Users/choton/Library/CloudStorage/OneDrive-KansasStateUniversity/PhD%20Research/Anytime%20Control%20Project%20%282023%29/Anytime%20tool/running_ex_alg2.ipynb#W2sZmlsZQ%3D%3D?line=24'>25</a>\u001b[0m \u001b[39m# print(\"Xc = \", Xc)\u001b[39;00m\n\u001b[1;32m     <a href='vscode-notebook-cell:/Users/choton/Library/CloudStorage/OneDrive-KansasStateUniversity/PhD%20Research/Anytime%20Control%20Project%20%282023%29/Anytime%20tool/running_ex_alg2.ipynb#W2sZmlsZQ%3D%3D?line=25'>26</a>\u001b[0m \u001b[39m# Vc_twice = [np.matmul(M,x) for x in Xc.vertices()]    \u001b[39;00m\n\u001b[0;32m   (...)\u001b[0m\n\u001b[1;32m     <a href='vscode-notebook-cell:/Users/choton/Library/CloudStorage/OneDrive-KansasStateUniversity/PhD%20Research/Anytime%20Control%20Project%20%282023%29/Anytime%20tool/running_ex_alg2.ipynb#W2sZmlsZQ%3D%3D?line=29'>30</a>\u001b[0m \u001b[39m# print(\"Xh = \", Xh)\u001b[39;00m\n\u001b[1;32m     <a href='vscode-notebook-cell:/Users/choton/Library/CloudStorage/OneDrive-KansasStateUniversity/PhD%20Research/Anytime%20Control%20Project%20%282023%29/Anytime%20tool/running_ex_alg2.ipynb#W2sZmlsZQ%3D%3D?line=30'>31</a>\u001b[0m \u001b[39m# Xh.inequalities()\u001b[39;00m\n",
      "File \u001b[0;32m/private/var/tmp/sage-10.1-current/local/var/lib/sage/venv-python3.11.1/lib/python3.11/site-packages/sage/rings/real_mpfr.pyx:2434\u001b[0m, in \u001b[0;36msage.rings.real_mpfr.RealNumber.__mul__ (build/cythonized/sage/rings/real_mpfr.c:19372)\u001b[0;34m()\u001b[0m\n\u001b[1;32m   2432\u001b[0m     return right.__mul__(left)\n\u001b[1;32m   2433\u001b[0m elif isinstance(left, RealNumber):\n\u001b[0;32m-> 2434\u001b[0m     return Element.__mul__(left, right)\n\u001b[1;32m   2435\u001b[0m else:\n\u001b[1;32m   2436\u001b[0m     return Element.__rmul__(right, left)\n",
      "File \u001b[0;32m/private/var/tmp/sage-10.1-current/local/var/lib/sage/venv-python3.11.1/lib/python3.11/site-packages/sage/structure/element.pyx:1509\u001b[0m, in \u001b[0;36msage.structure.element.Element.__mul__ (build/cythonized/sage/structure/element.c:12307)\u001b[0;34m()\u001b[0m\n\u001b[1;32m   1507\u001b[0m     return (<Element>left)._mul_(right)\n\u001b[1;32m   1508\u001b[0m if BOTH_ARE_ELEMENT(cl):\n\u001b[0;32m-> 1509\u001b[0m     return coercion_model.bin_op(left, right, mul)\n\u001b[1;32m   1510\u001b[0m \n\u001b[1;32m   1511\u001b[0m cdef long value\n",
      "File \u001b[0;32m/private/var/tmp/sage-10.1-current/local/var/lib/sage/venv-python3.11.1/lib/python3.11/site-packages/sage/structure/coerce.pyx:1215\u001b[0m, in \u001b[0;36msage.structure.coerce.CoercionModel.bin_op (build/cythonized/sage/structure/coerce.c:10711)\u001b[0;34m()\u001b[0m\n\u001b[1;32m   1213\u001b[0m if action is not None:\n\u001b[1;32m   1214\u001b[0m     if (<Action>action)._is_left:\n\u001b[0;32m-> 1215\u001b[0m         return (<Action>action)._act_(x, y)\n\u001b[1;32m   1216\u001b[0m     else:\n\u001b[1;32m   1217\u001b[0m         return (<Action>action)._act_(y, x)\n",
      "File \u001b[0;32m/private/var/tmp/sage-10.1-current/local/var/lib/sage/venv-python3.11.1/lib/python3.11/site-packages/sage/categories/action.pyx:500\u001b[0m, in \u001b[0;36msage.categories.action.PrecomposedAction._act_ (build/cythonized/sage/categories/action.c:7550)\u001b[0;34m()\u001b[0m\n\u001b[1;32m    498\u001b[0m     g = self.G_precomposition._call_(g)\n\u001b[1;32m    499\u001b[0m if self.S_precomposition is not None:\n\u001b[0;32m--> 500\u001b[0m     x = self.S_precomposition._call_(x)\n\u001b[1;32m    501\u001b[0m return self._action._act_(g, x)\n\u001b[1;32m    502\u001b[0m \n",
      "File \u001b[0;32m/private/var/tmp/sage-10.1-current/local/var/lib/sage/venv-python3.11.1/lib/python3.11/site-packages/sage/structure/coerce_maps.pyx:163\u001b[0m, in \u001b[0;36msage.structure.coerce_maps.DefaultConvertMap_unique._call_ (build/cythonized/sage/structure/coerce_maps.c:4838)\u001b[0;34m()\u001b[0m\n\u001b[1;32m    161\u001b[0m             print(type(C), C)\n\u001b[1;32m    162\u001b[0m             print(type(C._element_constructor), C._element_constructor)\n\u001b[0;32m--> 163\u001b[0m         raise\n\u001b[1;32m    164\u001b[0m \n\u001b[1;32m    165\u001b[0m cpdef Element _call_with_args(self, x, args=(), kwds={}):\n",
      "File \u001b[0;32m/private/var/tmp/sage-10.1-current/local/var/lib/sage/venv-python3.11.1/lib/python3.11/site-packages/sage/structure/coerce_maps.pyx:158\u001b[0m, in \u001b[0;36msage.structure.coerce_maps.DefaultConvertMap_unique._call_ (build/cythonized/sage/structure/coerce_maps.c:4730)\u001b[0;34m()\u001b[0m\n\u001b[1;32m    156\u001b[0m cdef Parent C = self._codomain\n\u001b[1;32m    157\u001b[0m try:\n\u001b[0;32m--> 158\u001b[0m     return C._element_constructor(x)\n\u001b[1;32m    159\u001b[0m except Exception:\n\u001b[1;32m    160\u001b[0m     if print_warnings:\n",
      "File \u001b[0;32m/private/var/tmp/sage-10.1-current/local/var/lib/sage/venv-python3.11.1/lib/python3.11/site-packages/sage/geometry/polyhedron/parent.py:708\u001b[0m, in \u001b[0;36mPolyhedra_base._element_constructor_\u001b[0;34m(self, *args, **kwds)\u001b[0m\n\u001b[1;32m    705\u001b[0m         \u001b[39mreturn\u001b[39;00m args[\u001b[39m0\u001b[39m]\n\u001b[1;32m    707\u001b[0m     polyhedron \u001b[39m=\u001b[39m args[\u001b[39m0\u001b[39m]\n\u001b[0;32m--> 708\u001b[0m     \u001b[39mreturn\u001b[39;00m \u001b[39mself\u001b[39;49m\u001b[39m.\u001b[39;49m_element_constructor_polyhedron(polyhedron, mutable\u001b[39m=\u001b[39;49mmutable, \u001b[39m*\u001b[39;49m\u001b[39m*\u001b[39;49mkwds)\n\u001b[1;32m    709\u001b[0m \u001b[39mif\u001b[39;00m nargs \u001b[39m==\u001b[39m \u001b[39m1\u001b[39m \u001b[39mand\u001b[39;00m args[\u001b[39m0\u001b[39m] \u001b[39m==\u001b[39m \u001b[39m0\u001b[39m:\n\u001b[1;32m    710\u001b[0m     \u001b[39mreturn\u001b[39;00m \u001b[39mself\u001b[39m\u001b[39m.\u001b[39mzero()\n",
      "File \u001b[0;32m/private/var/tmp/sage-10.1-current/local/var/lib/sage/venv-python3.11.1/lib/python3.11/site-packages/sage/geometry/polyhedron/parent.py:743\u001b[0m, in \u001b[0;36mPolyhedra_base._element_constructor_polyhedron\u001b[0;34m(self, polyhedron, **kwds)\u001b[0m\n\u001b[1;32m    740\u001b[0m     Vrep \u001b[39m=\u001b[39m [polyhedron\u001b[39m.\u001b[39mvertex_generator(), polyhedron\u001b[39m.\u001b[39mray_generator(),\n\u001b[1;32m    741\u001b[0m             polyhedron\u001b[39m.\u001b[39mline_generator()]\n\u001b[1;32m    742\u001b[0m Hrep \u001b[39m=\u001b[39m [polyhedron\u001b[39m.\u001b[39minequality_generator(), polyhedron\u001b[39m.\u001b[39mequation_generator()]\n\u001b[0;32m--> 743\u001b[0m \u001b[39mreturn\u001b[39;00m \u001b[39mself\u001b[39;49m\u001b[39m.\u001b[39;49m_element_constructor_(Vrep, Hrep, Vrep_minimal\u001b[39m=\u001b[39;49m\u001b[39mTrue\u001b[39;49;00m, Hrep_minimal\u001b[39m=\u001b[39;49m\u001b[39mTrue\u001b[39;49;00m, \u001b[39m*\u001b[39;49m\u001b[39m*\u001b[39;49mkwds)\n",
      "File \u001b[0;32m/private/var/tmp/sage-10.1-current/local/var/lib/sage/venv-python3.11.1/lib/python3.11/site-packages/sage/geometry/polyhedron/parent.py:695\u001b[0m, in \u001b[0;36mPolyhedra_base._element_constructor_\u001b[0;34m(self, *args, **kwds)\u001b[0m\n\u001b[1;32m    693\u001b[0m     \u001b[39mif\u001b[39;00m convert \u001b[39mand\u001b[39;00m Vrep:\n\u001b[1;32m    694\u001b[0m         Vrep \u001b[39m=\u001b[39m [convert_base_ring(_) \u001b[39mfor\u001b[39;00m _ \u001b[39min\u001b[39;00m Vrep]\n\u001b[0;32m--> 695\u001b[0m     \u001b[39mreturn\u001b[39;00m \u001b[39mself\u001b[39;49m\u001b[39m.\u001b[39;49melement_class(\u001b[39mself\u001b[39;49m, Vrep, Hrep, \u001b[39m*\u001b[39;49m\u001b[39m*\u001b[39;49mkwds)\n\u001b[1;32m    696\u001b[0m \u001b[39mif\u001b[39;00m nargs \u001b[39m==\u001b[39m \u001b[39m1\u001b[39m \u001b[39mand\u001b[39;00m is_Polyhedron(args[\u001b[39m0\u001b[39m]):\n\u001b[1;32m    697\u001b[0m     copy \u001b[39m=\u001b[39m kwds\u001b[39m.\u001b[39mpop(\u001b[39m'\u001b[39m\u001b[39mcopy\u001b[39m\u001b[39m'\u001b[39m, args[\u001b[39m0\u001b[39m]\u001b[39m.\u001b[39mparent() \u001b[39mis\u001b[39;00m \u001b[39mnot\u001b[39;00m \u001b[39mself\u001b[39m)\n",
      "File \u001b[0;32m/private/var/tmp/sage-10.1-current/local/var/lib/sage/venv-python3.11.1/lib/python3.11/site-packages/sage/geometry/polyhedron/backend_cdd_rdf.py:100\u001b[0m, in \u001b[0;36mPolyhedron_RDF_cdd.__init__\u001b[0;34m(self, parent, Vrep, Hrep, **kwds)\u001b[0m\n\u001b[1;32m     86\u001b[0m \u001b[39mdef\u001b[39;00m \u001b[39m__init__\u001b[39m(\u001b[39mself\u001b[39m, parent, Vrep, Hrep, \u001b[39m*\u001b[39m\u001b[39m*\u001b[39mkwds):\n\u001b[1;32m     87\u001b[0m     \u001b[39m\"\"\"\u001b[39;00m\n\u001b[1;32m     88\u001b[0m \u001b[39m    The Python constructor.\u001b[39;00m\n\u001b[1;32m     89\u001b[0m \n\u001b[0;32m   (...)\u001b[0m\n\u001b[1;32m     98\u001b[0m \u001b[39m        sage: TestSuite(p).run()\u001b[39;00m\n\u001b[1;32m     99\u001b[0m \u001b[39m    \"\"\"\u001b[39;00m\n\u001b[0;32m--> 100\u001b[0m     Polyhedron_cdd\u001b[39m.\u001b[39;49m\u001b[39m__init__\u001b[39;49m(\u001b[39mself\u001b[39;49m, parent, Vrep, Hrep, \u001b[39m*\u001b[39;49m\u001b[39m*\u001b[39;49mkwds)\n",
      "File \u001b[0;32m/private/var/tmp/sage-10.1-current/local/var/lib/sage/venv-python3.11.1/lib/python3.11/site-packages/sage/geometry/polyhedron/base0.py:133\u001b[0m, in \u001b[0;36mPolyhedron_base0.__init__\u001b[0;34m(self, parent, Vrep, Hrep, Vrep_minimal, Hrep_minimal, pref_rep, mutable, **kwds)\u001b[0m\n\u001b[1;32m    130\u001b[0m     \u001b[39mraise\u001b[39;00m \u001b[39mValueError\u001b[39;00m(\u001b[39m\"\u001b[39m\u001b[39mif both Vrep and Hrep are provided, they must be minimal\u001b[39m\u001b[39m\"\u001b[39m\n\u001b[1;32m    131\u001b[0m                      \u001b[39m\"\u001b[39m\u001b[39m and Vrep_minimal and Hrep_minimal must both be True\u001b[39m\u001b[39m\"\u001b[39m)\n\u001b[1;32m    132\u001b[0m \u001b[39mif\u001b[39;00m \u001b[39mhasattr\u001b[39m(\u001b[39mself\u001b[39m, \u001b[39m\"\u001b[39m\u001b[39m_init_from_Vrepresentation_and_Hrepresentation\u001b[39m\u001b[39m\"\u001b[39m):\n\u001b[0;32m--> 133\u001b[0m     \u001b[39mself\u001b[39;49m\u001b[39m.\u001b[39;49m_init_from_Vrepresentation_and_Hrepresentation(Vrep, Hrep)\n\u001b[1;32m    134\u001b[0m     \u001b[39mreturn\u001b[39;00m\n\u001b[1;32m    135\u001b[0m \u001b[39melse\u001b[39;00m:\n",
      "File \u001b[0;32m/private/var/tmp/sage-10.1-current/local/var/lib/sage/venv-python3.11.1/lib/python3.11/site-packages/sage/geometry/polyhedron/backend_cdd_rdf.py:227\u001b[0m, in \u001b[0;36mPolyhedron_RDF_cdd._init_from_Vrepresentation_and_Hrepresentation\u001b[0;34m(self, Vrep, Hrep, verbose)\u001b[0m\n\u001b[1;32m    225\u001b[0m simplefilter(\u001b[39m\"\u001b[39m\u001b[39merror\u001b[39m\u001b[39m\"\u001b[39m)\n\u001b[1;32m    226\u001b[0m \u001b[39mtry\u001b[39;00m:\n\u001b[0;32m--> 227\u001b[0m     try_init(prim)\n\u001b[1;32m    228\u001b[0m \u001b[39mexcept\u001b[39;00m \u001b[39mUserWarning\u001b[39;00m:\n\u001b[1;32m    229\u001b[0m     simplefilter(\u001b[39m\"\u001b[39m\u001b[39monce\u001b[39m\u001b[39m\"\u001b[39m)  \u001b[39m# Only print the first warning.\u001b[39;00m\n",
      "File \u001b[0;32m/private/var/tmp/sage-10.1-current/local/var/lib/sage/venv-python3.11.1/lib/python3.11/site-packages/sage/geometry/polyhedron/backend_cdd_rdf.py:202\u001b[0m, in \u001b[0;36mPolyhedron_RDF_cdd._init_from_Vrepresentation_and_Hrepresentation.<locals>.try_init\u001b[0;34m(rep)\u001b[0m\n\u001b[1;32m    199\u001b[0m     s \u001b[39m=\u001b[39m cdd_Hrepresentation(\u001b[39mself\u001b[39m\u001b[39m.\u001b[39m_cdd_type, new_ieqs, eqns)\n\u001b[1;32m    201\u001b[0m s \u001b[39m=\u001b[39m \u001b[39mself\u001b[39m\u001b[39m.\u001b[39m_run_cdd(s, \u001b[39m'\u001b[39m\u001b[39m--redcheck\u001b[39m\u001b[39m'\u001b[39m, verbose\u001b[39m=\u001b[39mverbose)\n\u001b[0;32m--> 202\u001b[0m s \u001b[39m=\u001b[39m \u001b[39mself\u001b[39;49m\u001b[39m.\u001b[39;49m_run_cdd(s, \u001b[39m'\u001b[39;49m\u001b[39m--repall\u001b[39;49m\u001b[39m'\u001b[39;49m, verbose\u001b[39m=\u001b[39;49mverbose)\n\u001b[1;32m    203\u001b[0m Polyhedron_cdd\u001b[39m.\u001b[39m_parse_block(s\u001b[39m.\u001b[39msplitlines(), \u001b[39m'\u001b[39m\u001b[39mV-representation\u001b[39m\u001b[39m'\u001b[39m, parse_Vrep)\n\u001b[1;32m    204\u001b[0m Polyhedron_cdd\u001b[39m.\u001b[39m_parse_block(s\u001b[39m.\u001b[39msplitlines(), \u001b[39m'\u001b[39m\u001b[39mH-representation\u001b[39m\u001b[39m'\u001b[39m, parse_Hrep)\n",
      "File \u001b[0;32m/private/var/tmp/sage-10.1-current/local/var/lib/sage/venv-python3.11.1/lib/python3.11/site-packages/sage/geometry/polyhedron/backend_cdd.py:172\u001b[0m, in \u001b[0;36mPolyhedron_cdd._run_cdd\u001b[0;34m(self, cdd_input_string, cmdline_arg, verbose)\u001b[0m\n\u001b[1;32m    169\u001b[0m     \u001b[39mprint\u001b[39m(err)\n\u001b[1;32m    170\u001b[0m \u001b[39mif\u001b[39;00m \u001b[39m'\u001b[39m\u001b[39mError:\u001b[39m\u001b[39m'\u001b[39m \u001b[39min\u001b[39;00m ans \u001b[39m+\u001b[39m err:\n\u001b[1;32m    171\u001b[0m     \u001b[39m# cdd reports errors on stdout and misc information on stderr\u001b[39;00m\n\u001b[0;32m--> 172\u001b[0m     \u001b[39mraise\u001b[39;00m \u001b[39mValueError\u001b[39;00m(ans\u001b[39m.\u001b[39mstrip())\n\u001b[1;32m    173\u001b[0m \u001b[39mreturn\u001b[39;00m ans\n",
      "\u001b[0;31mValueError\u001b[0m: *Error: Numerical inconsistency is found.  Use the GMP exact arithmetic."
     ]
    }
   ],
   "source": [
    "Pc = P0\n",
    "iter = 6\n",
    "\n",
    "for i in range(iter):\n",
    "    print('i = ', i)\n",
    "    Xc = Pc.linear_transformation(C)\n",
    "    Xcp = C*Pc\n",
    "    print(\"Xc = \", Xc.inequalities())\n",
    "    print(\"Xcp = \", Xcp.inequalities())\n",
    "    Vc_twice = [np.matmul(M,x) for x in Xc.vertices()]    \n",
    "    Xc_twice = Polyhedron(Vc_twice, backend='ppl', base_ring=QQ)\n",
    "    print(\"Xc_twice = \", Xc_twice)\n",
    "    Xh = Xc_twice + Box\n",
    "\n",
    "    Xh = Polyhedron(Xh, backend='ppl', base_ring=QQ)\n",
    "    Xh = 100*Xh\n",
    "\n",
    "    print(\"Xh = \", Xh.inequalities())\n",
    "    Pc = Xh.linear_transformation(K)\n",
    "    Pc = Polyhedron(Pc, backend='ppl', base_ring=QQ)\n",
    "    Pc = 0.01*Pc\n",
    "    print(\"Pc = \", Pc.inequalities())\n",
    "\n",
    "\n",
    "# Xc = Pc.linear_transformation(C)\n",
    "# print(\"Xc = \", Xc)\n",
    "# Vc_twice = [np.matmul(M,x) for x in Xc.vertices()]    \n",
    "# Xc_twice = Polyhedron(Vc_twice, backend='ppl', base_ring=QQ)\n",
    "# print(\"Xc_twice = \", Xc_twice)\n",
    "# Xh = Xc_twice + Box\n",
    "# print(\"Xh = \", Xh)\n",
    "# Xh.inequalities()\n",
    "\n",
    "Xc\n"
   ]
  }
 ],
 "metadata": {
  "kernelspec": {
   "display_name": "SageMath 10.1",
   "language": "sage",
   "name": "SageMath-10.1"
  },
  "language_info": {
   "codemirror_mode": {
    "name": "ipython",
    "version": 3
   },
   "file_extension": ".py",
   "mimetype": "text/x-python",
   "name": "sage",
   "nbconvert_exporter": "python",
   "pygments_lexer": "ipython3",
   "version": "3.11.1"
  },
  "orig_nbformat": 4
 },
 "nbformat": 4,
 "nbformat_minor": 2
}
