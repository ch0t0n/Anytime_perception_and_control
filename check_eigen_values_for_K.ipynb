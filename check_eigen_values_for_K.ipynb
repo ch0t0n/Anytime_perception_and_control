{
 "cells": [
  {
   "cell_type": "code",
   "execution_count": null,
   "metadata": {
    "vscode": {
     "languageId": "python"
    }
   },
   "outputs": [],
   "source": [
    "input_file = open(r\"inputs/ex1_dummy.txt\")\n",
    "\n",
    "exec(input_file.read())\n",
    "input_file.close()\n",
    "\n",
    "C = A + B*K\n",
    "\n",
    "C"
   ]
  }
 ],
 "metadata": {
  "kernelspec": {
   "display_name": "SageMath 10.1",
   "language": "sage",
   "name": "SageMath-10.1"
  },
  "language_info": {
   "name": "sage"
  },
  "orig_nbformat": 4
 },
 "nbformat": 4,
 "nbformat_minor": 2
}
