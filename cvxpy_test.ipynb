{
 "cells": [
  {
   "cell_type": "code",
   "execution_count": 47,
   "metadata": {},
   "outputs": [
    {
     "name": "stdout",
     "output_type": "stream",
     "text": [
      "n =  2\n",
      "Minimum distance =  7.000000001193545\n",
      "Vector in P1 =  [3. 2.]\n",
      "Vector in P2 [10.  2.]\n"
     ]
    }
   ],
   "source": [
    "import cvxpy as cp\n",
    "import numpy as np\n",
    "\n",
    "# We write a function to compute minimum distance between two polyhedra, and return the points\n",
    "\n",
    "def min_dist_between_polyhedra(P1, P2):\n",
    "    # At first, we extract the linear constraints from both polyhedra written as Ax + b >= 0\n",
    "    Ab1 = list(P1.Hrepresentation())\n",
    "    Ab2 = list(P2.Hrepresentation())\n",
    "    b1, A1 = ([a[0] for a in Ab1], [a[1:] for a in Ab1])\n",
    "    b2, A2 = ([a[0] for a in Ab2], [a[1:] for a in Ab2])\n",
    "    b1, A1, b2, A2 = np.array(b1), np.array(A1), np.array(b2), np.array(A2)\n",
    "    # print('b1 = ', b1)\n",
    "    # print('A1 = ', A1)\n",
    "    # print('b2 = ', b2)\n",
    "    # print('A2 = ', A2)\n",
    "\n",
    "    # The dimension of the polyhedra are the number of columns in Matrix A\n",
    "    n = len(A1[0])\n",
    "    print('n = ', n)\n",
    "\n",
    "    # We define two vectors of same dimensions\n",
    "    X1 = cp.Variable(n)\n",
    "    X2 = cp.Variable(n)\n",
    "\n",
    "    # Next, we write the constraints for the two polyhedra P1 and P2 such that vector X1 in P1 and X2 in P2\n",
    "    constraints = [A1@X1 >= -b1, A2@X2 >=-b2]\n",
    "\n",
    "    # Finally, we write the objective function which is to minimize the infinity norm of any two points in P1 and P2\n",
    "    objective = cp.Minimize(cp.norm(X1-X2))\n",
    "\n",
    "    # Problem formulation\n",
    "    prob = cp.Problem(objective, constraints)\n",
    "\n",
    "    # Solve the problem\n",
    "    prob.solve()\n",
    "\n",
    "    # Finally, we have the minimum distance and the two vectors,\n",
    "    val, x1, x2 = prob.value, X1.value, X2.value\n",
    "    # print('Minimum distance = ', val)\n",
    "    # print('Vector in P1 = ', x1)\n",
    "    # print('Vector in P2', x2)\n",
    "    return val, x1, x2\n",
    "\n",
    "# P1 = Polyhedron(eqns = [(3, 0, 1)], backend='ppl', base_ring=QQ)\n",
    "P1 = Polyhedron(vertices = [[1,2], [2,1], [3,2], [2,3]], backend='ppl', base_ring=QQ)\n",
    "P2 = Polyhedron(vertices = [[10,2], [11,1], [12,2], [11,3]], backend='ppl', base_ring=QQ)\n",
    "\n",
    "dist, X1, X2 = min_dist_between_polyhedra(P1,P2)\n",
    "print('Minimum distance = ', dist)\n",
    "print('Vector in P1 = ', X1)\n",
    "print('Vector in P2', X2)\n"
   ]
  },
  {
   "cell_type": "code",
   "execution_count": 49,
   "metadata": {},
   "outputs": [
    {
     "name": "stdout",
     "output_type": "stream",
     "text": [
      "b1 =  [-12  -8  14  10]\n",
      "A1 =  [[ 1  1]\n",
      " [ 1 -1]\n",
      " [-1 -1]\n",
      " [-1  1]]\n",
      "n =  2\n"
     ]
    },
    {
     "ename": "NotImplementedError",
     "evalue": "Strict inequalities are not allowed.",
     "output_type": "error",
     "traceback": [
      "\u001b[0;31m---------------------------------------------------------------------------\u001b[0m",
      "\u001b[0;31mNotImplementedError\u001b[0m                       Traceback (most recent call last)",
      "\u001b[1;32m/Users/choton/Library/CloudStorage/OneDrive-KansasStateUniversity/PhD Research/Anytime Control Project (2023)/Anytime tool/cvxpy_test.ipynb Cell 2\u001b[0m line \u001b[0;36m2\n\u001b[1;32m     <a href='vscode-notebook-cell:/Users/choton/Library/CloudStorage/OneDrive-KansasStateUniversity/PhD%20Research/Anytime%20Control%20Project%20%282023%29/Anytime%20tool/cvxpy_test.ipynb#W3sZmlsZQ%3D%3D?line=19'>20</a>\u001b[0m t \u001b[39m=\u001b[39m cp\u001b[39m.\u001b[39mVariable()\n\u001b[1;32m     <a href='vscode-notebook-cell:/Users/choton/Library/CloudStorage/OneDrive-KansasStateUniversity/PhD%20Research/Anytime%20Control%20Project%20%282023%29/Anytime%20tool/cvxpy_test.ipynb#W3sZmlsZQ%3D%3D?line=21'>22</a>\u001b[0m \u001b[39m# Next, we write the constraints for the polyhedra P1\u001b[39;00m\n\u001b[0;32m---> <a href='vscode-notebook-cell:/Users/choton/Library/CloudStorage/OneDrive-KansasStateUniversity/PhD%20Research/Anytime%20Control%20Project%20%282023%29/Anytime%20tool/cvxpy_test.ipynb#W3sZmlsZQ%3D%3D?line=22'>23</a>\u001b[0m constraints \u001b[39m=\u001b[39m [A1\u001b[39m@X1\u001b[39;49m \u001b[39m>\u001b[39;49m \u001b[39m-\u001b[39;49mb1, v1\u001b[39m-\u001b[39mX1\u001b[39m<\u001b[39m\u001b[39m=\u001b[39mt, \u001b[39m-\u001b[39mt\u001b[39m<\u001b[39m\u001b[39m=\u001b[39mv1\u001b[39m-\u001b[39mX1, t\u001b[39m>\u001b[39m\u001b[39m=\u001b[39mInteger(\u001b[39m0\u001b[39m)]\n\u001b[1;32m     <a href='vscode-notebook-cell:/Users/choton/Library/CloudStorage/OneDrive-KansasStateUniversity/PhD%20Research/Anytime%20Control%20Project%20%282023%29/Anytime%20tool/cvxpy_test.ipynb#W3sZmlsZQ%3D%3D?line=24'>25</a>\u001b[0m \u001b[39m# Finally, we write the objective function which is to maximize the infinity norm of vector v1 and polyhedra P1\u001b[39;00m\n\u001b[1;32m     <a href='vscode-notebook-cell:/Users/choton/Library/CloudStorage/OneDrive-KansasStateUniversity/PhD%20Research/Anytime%20Control%20Project%20%282023%29/Anytime%20tool/cvxpy_test.ipynb#W3sZmlsZQ%3D%3D?line=25'>26</a>\u001b[0m objective \u001b[39m=\u001b[39m cp\u001b[39m.\u001b[39mMinimize(t)\n",
      "File \u001b[0;32m~/.sage/local/lib/python3.11/site-packages/cvxpy/expressions/expression.py:737\u001b[0m, in \u001b[0;36mExpression.__gt__\u001b[0;34m(self, other)\u001b[0m\n\u001b[1;32m    734\u001b[0m \u001b[39mdef\u001b[39;00m \u001b[39m__gt__\u001b[39m(\u001b[39mself\u001b[39m, other: \u001b[39m\"\u001b[39m\u001b[39mExpression\u001b[39m\u001b[39m\"\u001b[39m):\n\u001b[1;32m    735\u001b[0m     \u001b[39m\"\"\"Unsupported.\u001b[39;00m\n\u001b[1;32m    736\u001b[0m \u001b[39m    \"\"\"\u001b[39;00m\n\u001b[0;32m--> 737\u001b[0m     \u001b[39mraise\u001b[39;00m \u001b[39mNotImplementedError\u001b[39;00m(\u001b[39m\"\u001b[39m\u001b[39mStrict inequalities are not allowed.\u001b[39m\u001b[39m\"\u001b[39m)\n",
      "\u001b[0;31mNotImplementedError\u001b[0m: Strict inequalities are not allowed."
     ]
    }
   ],
   "source": [
    "# Next, we write a function to compute the maximum distance of a vector and a polyhedron\n",
    "\n",
    "v1 = np.array([3,2])\n",
    "P1 = Polyhedron(vertices = [[10,2], [11,1], [12,2], [11,3]], backend='ppl', base_ring=QQ)\n",
    "\n",
    "# At first, we extract the linear constraints from both polyhedra written as Ax + b >= 0\n",
    "Ab1 = list(P1.Hrepresentation())\n",
    "b1, A1 = ([a[0] for a in Ab1], [a[1:] for a in Ab1])\n",
    "b1, A1 = np.array(b1), np.array(A1)\n",
    "\n",
    "print('b1 = ', b1)\n",
    "print('A1 = ', A1)\n",
    "\n",
    "# The dimension of the polyhedra are the number of columns in Matrix A\n",
    "n = len(A1[0])\n",
    "print('n = ', n)\n",
    "\n",
    "# We define a vector to be the same dimension as the polyhedra\n",
    "X1 = cp.Variable(n)\n",
    "t = cp.Variable()\n",
    "\n",
    "# Next, we write the constraints for the polyhedra P1\n",
    "constraints = [A1@X1 >= -b1, v1-X1<=t, -t<=v1-X1, t>=0]\n",
    "\n",
    "# Finally, we write the objective function which is to maximize the infinity norm of vector v1 and polyhedra P1\n",
    "objective = cp.Minimize(t)\n",
    "\n",
    "# Problem formulation\n",
    "prob = cp.Problem(objective, constraints)\n",
    "\n",
    "# Solve the problem\n",
    "prob.solve()\n",
    "\n",
    "# Finally, we have the minimum distance and the two vectors,\n",
    "val, x1 = prob.value, X1.value\n",
    "\n",
    "print('Maximum distance = ', val)\n",
    "print('Vector in P1 = ', x1)"
   ]
  },
  {
   "cell_type": "code",
   "execution_count": 46,
   "metadata": {},
   "outputs": [
    {
     "name": "stdout",
     "output_type": "stream",
     "text": [
      "9.0\n",
      "[12, 2]\n"
     ]
    }
   ],
   "source": [
    "# Next, we write a function to compute the maximum distance of a vector and a polyhedron\n",
    "def max_dist_vector_to_polyhedron(v, P):\n",
    "    X = P.vertices_list()\n",
    "    dist_list = [(np.linalg.norm(v-x), x) for x in X]\n",
    "    d, vx = max(dist_list)\n",
    "    return d, vx\n",
    "\n",
    "v1 = np.array([3,2])\n",
    "P1 = Polyhedron(vertices = [[10,2], [11,1], [12,2], [11,3]], backend='ppl', base_ring=QQ)\n",
    "\n",
    "d1, vx1 = max_dist_vector_to_polyhedron(v1,P1)\n",
    "\n",
    "print(d1)\n",
    "print(vx1)\n"
   ]
  }
 ],
 "metadata": {
  "kernelspec": {
   "display_name": "SageMath 10.1",
   "language": "sage",
   "name": "SageMath-10.1"
  },
  "language_info": {
   "codemirror_mode": {
    "name": "ipython",
    "version": 3
   },
   "file_extension": ".py",
   "mimetype": "text/x-python",
   "name": "python",
   "nbconvert_exporter": "python",
   "pygments_lexer": "ipython3",
   "version": "3.11.1"
  },
  "orig_nbformat": 4
 },
 "nbformat": 4,
 "nbformat_minor": 2
}
