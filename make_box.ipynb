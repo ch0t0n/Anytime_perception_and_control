{
 "cells": [
  {
   "cell_type": "code",
   "execution_count": 19,
   "metadata": {
    "vscode": {
     "languageId": "python"
    }
   },
   "outputs": [
    {
     "name": "stdout",
     "output_type": "stream",
     "text": [
      "mat zeros =  [[0.100000000000000, 0, 0], [0.200000000000000, 0, 0], [0.100000000000000, 0, 0], [0.200000000000000, 0, 0]]\n",
      "2\n",
      "mat pos =  [[0.100000000000000, 1, 0], [0.200000000000000, 0, 1], [0.100000000000000, 0, 0], [0.200000000000000, 0, 0]]\n",
      "[[0.100000000000000, 1, 0], [0.200000000000000, 0, 1], [0.100000000000000, -1, 0], [0.200000000000000, 0, -1]]\n"
     ]
    }
   ],
   "source": [
    "# This is the code to make a box around a vector v = [v1 v2 ... vn]^T with parameters r = [r1 r2 ... rn]^T\n",
    "\n",
    "def make_box(v, r):\n",
    "    n = len(v)\n",
    "    zeros = [0]*(n+1)\n",
    "    mat = []\n",
    "    # Adding the constraints for positive values\n",
    "    for r1 in r:\n",
    "        zeros[0] = r1\n",
    "        mat.append(zeros*1)\n",
    "    # Adding the constraints for negative values\n",
    "    for r1 in r:\n",
    "        zeros[0] = r1\n",
    "        mat.append(zeros*1)\n",
    "   \n",
    "    print('mat zeros = ', mat) # [[0.1,0,0], [0.1,0,0], [0.1,0,0], [0.1,0,0]]\n",
    "    print(n)\n",
    "    for i in range(n):\n",
    "        mat[i][i+1] = 1 # [[0.1,1,0], [0.1,0,1], [0.1,0,0], [0.1,0,0]]\n",
    "    print('mat pos = ', mat)\n",
    "    j = 1\n",
    "    for i in range(n,2*n):\n",
    "        mat[i][j] = -1 # # [[0.1,1,0], [0.1,0,1], [0.1,-1,0], [0.1,0,-1]]\n",
    "        j += 1\n",
    "    print(mat)\n",
    "    return mat\n",
    "\n",
    "y = make_box([0,0],[0.1,0.2])\n",
    "\n",
    "\n",
    "# Old box function\n",
    "# def box(n, ep): # Let n = 2, ep = 0.1\n",
    "#     zeros = [0]*(n+1) # [0,0,0]\n",
    "#     zeros[0] = ep # [0.1,0,0]\n",
    "#     mat = [] # []\n",
    "#     for i in range(2*n):\n",
    "#         mat.append(zeros*1)\n",
    "#     # print(mat) # [[0.1,0,0], [0.1,0,0], [0.1,0,0], [0.1,0,0]]\n",
    "\n",
    "#     for i in range(n):\n",
    "#         mat[i][i+1] = 1 # [[0.1,1,0], [0.1,0,1], [0.1,0,0], [0.1,0,0]]\n",
    "#     j = 1\n",
    "#     for i in range(n,2*n):\n",
    "#         mat[i][j] = -1 # # [[0.1,1,0], [0.1,0,1], [0.1,-1,0], [0.1,0,-1]]\n",
    "#         j += 1\n",
    "    \n",
    "#     print(mat)\n",
    "#     Box = Polyhedron(ieqs=mat, backend='ppl', base_ring=QQ)\n",
    "#     return Box\n",
    "\n",
    "# x = box(2, 0.1)"
   ]
  }
 ],
 "metadata": {
  "kernelspec": {
   "display_name": "SageMath 10.1",
   "language": "sage",
   "name": "SageMath-10.1"
  },
  "language_info": {
   "codemirror_mode": {
    "name": "ipython",
    "version": 3
   },
   "file_extension": ".py",
   "mimetype": "text/x-python",
   "name": "sage",
   "nbconvert_exporter": "python",
   "pygments_lexer": "ipython3",
   "version": "3.11.1"
  },
  "orig_nbformat": 4
 },
 "nbformat": 4,
 "nbformat_minor": 2
}
